{
  "nbformat": 4,
  "nbformat_minor": 0,
  "metadata": {
    "colab": {
      "provenance": [],
      "collapsed_sections": []
    },
    "kernelspec": {
      "name": "python3",
      "display_name": "Python 3"
    },
    "language_info": {
      "name": "python"
    }
  },
  "cells": [
    {
      "cell_type": "markdown",
      "metadata": {
        "id": "qRluLnU9tay5"
      },
      "source": [
        "CIFAR-10 영상 분류하기"
      ]
    },
    {
      "cell_type": "code",
      "metadata": {
        "id": "WmwCHYydtZ-7",
        "colab": {
          "base_uri": "https://localhost:8080/"
        },
        "outputId": "9db45070-294e-4a91-f28a-f59a02511782"
      },
      "source": [
        "import numpy as np\n",
        "import matplotlib.pyplot as plt\n",
        "import tensorflow as tf\n",
        "from tensorflow import keras\n",
        "from tensorflow.keras import Sequential\n",
        "from tensorflow.keras.layers import *\n",
        "\n",
        "# CFAR-10 데이터 세트를 적재한다.\n",
        "# 훈련 세트와 테스트 세트를 반환받는다. \n",
        "(X_train, y_train), (X_test, y_test) = keras.datasets.cifar10.load_data()"
      ],
      "execution_count": 1,
      "outputs": [
        {
          "output_type": "stream",
          "name": "stdout",
          "text": [
            "Downloading data from https://www.cs.toronto.edu/~kriz/cifar-10-python.tar.gz\n",
            "170498071/170498071 [==============================] - 4s 0us/step\n"
          ]
        }
      ]
    },
    {
      "cell_type": "markdown",
      "metadata": {
        "id": "Y-33sCIEc747"
      },
      "source": []
    },
    {
      "cell_type": "markdown",
      "metadata": {
        "id": "4MUfqBMKth3O"
      },
      "source": [
        "영상 화면 표시"
      ]
    },
    {
      "cell_type": "code",
      "metadata": {
        "id": "b63hIUIjtiKw"
      },
      "source": [
        "# 두 번째 영상(트럭)을 화면에 표시한다. \n",
        "plt.figure()\n",
        "plt.imshow(X_train[111])\n",
        "plt.colorbar()\n",
        "\n",
        "# 영상의 픽셀 값을 0에서 1 사이로 변환한다. \n",
        "X_train = X_train/255.0\n",
        "X_test = X_test/255.0\n",
        "\n",
        "print (y_train[111])"
      ],
      "execution_count": null,
      "outputs": []
    },
    {
      "cell_type": "markdown",
      "metadata": {
        "id": "HA8X6s_rtrEz"
      },
      "source": [
        "CNN 신경망 모델 구축"
      ]
    },
    {
      "cell_type": "code",
      "metadata": {
        "id": "jrhAIuoztrTZ"
      },
      "source": [
        "# 순차 모델을 구축한다. \n",
        "model = Sequential()\n",
        "model.add(Conv2D(64, activation = 'relu', kernel_size = (3,3 )))\n",
        "model.add(MaxPooling2D(pool_size = (2, 2)))\n",
        "model.add(Conv2D(32, activation = 'relu', kernel_size = (3,3 )))\n",
        "model.add(Flatten(input_shape = (32, 32, 3)))\n",
        "model.add(Dense(80, activation = 'relu'))\n",
        "model.add(Dense(10, activation = 'softmax'))\n"
      ],
      "execution_count": null,
      "outputs": []
    },
    {
      "cell_type": "markdown",
      "metadata": {
        "id": "sRbj7sw-tzQw"
      },
      "source": [
        "Model Compile"
      ]
    },
    {
      "cell_type": "code",
      "metadata": {
        "id": "uuQ1PmKytzcO"
      },
      "source": [
        "# 모델을 컴파일한다. \n",
        "model.compile(optimizer = 'adam', loss = 'sparse_categorical_crossentropy',\n",
        "              metrics = ['accuracy'])\n"
      ],
      "execution_count": null,
      "outputs": []
    },
    {
      "cell_type": "markdown",
      "metadata": {
        "id": "rnqqJ2UHt7Z3"
      },
      "source": [
        "학습 실행"
      ]
    },
    {
      "cell_type": "code",
      "metadata": {
        "id": "zMFbCJ_Wt7kz",
        "colab": {
          "base_uri": "https://localhost:8080/"
        },
        "outputId": "6be4fc87-deba-46f5-dfd1-112fe2c6f9c7"
      },
      "source": [
        "# 모델을 훈련한다. \n",
        "history = model.fit(X_train, y_train, epochs=10, verbose=1, \n",
        "                  validation_split=0.3)\n"
      ],
      "execution_count": null,
      "outputs": [
        {
          "output_type": "stream",
          "name": "stdout",
          "text": [
            "Epoch 1/10\n",
            "1094/1094 [==============================] - 64s 57ms/step - loss: 1.4945 - accuracy: 0.4630 - val_loss: 1.3011 - val_accuracy: 0.5386\n",
            "Epoch 2/10\n",
            "1094/1094 [==============================] - 62s 56ms/step - loss: 1.1438 - accuracy: 0.5972 - val_loss: 1.1760 - val_accuracy: 0.5938\n",
            "Epoch 3/10\n",
            "1094/1094 [==============================] - 61s 56ms/step - loss: 0.9937 - accuracy: 0.6495 - val_loss: 1.0130 - val_accuracy: 0.6447\n",
            "Epoch 4/10\n",
            "1094/1094 [==============================] - 60s 55ms/step - loss: 0.8951 - accuracy: 0.6877 - val_loss: 0.9993 - val_accuracy: 0.6492\n",
            "Epoch 5/10\n",
            "1094/1094 [==============================] - 60s 55ms/step - loss: 0.8029 - accuracy: 0.7187 - val_loss: 0.9718 - val_accuracy: 0.6603\n",
            "Epoch 6/10\n",
            "1094/1094 [==============================] - 60s 55ms/step - loss: 0.7385 - accuracy: 0.7407 - val_loss: 1.0222 - val_accuracy: 0.6576\n",
            "Epoch 7/10\n",
            "1094/1094 [==============================] - 60s 55ms/step - loss: 0.6615 - accuracy: 0.7704 - val_loss: 0.9918 - val_accuracy: 0.6667\n",
            "Epoch 8/10\n",
            "1094/1094 [==============================] - 60s 55ms/step - loss: 0.5832 - accuracy: 0.7959 - val_loss: 1.0454 - val_accuracy: 0.6659\n",
            "Epoch 9/10\n",
            "1094/1094 [==============================] - 60s 55ms/step - loss: 0.5172 - accuracy: 0.8167 - val_loss: 1.0807 - val_accuracy: 0.6639\n",
            "Epoch 10/10\n",
            "1094/1094 [==============================] - 60s 55ms/step - loss: 0.4429 - accuracy: 0.8452 - val_loss: 1.2077 - val_accuracy: 0.6557\n"
          ]
        }
      ]
    },
    {
      "cell_type": "markdown",
      "metadata": {
        "id": "Iwmeit8-uBCB"
      },
      "source": [
        "손실값을 그래프로 그린다."
      ]
    },
    {
      "cell_type": "code",
      "metadata": {
        "id": "LLyra9QouBPC",
        "colab": {
          "base_uri": "https://localhost:8080/",
          "height": 295
        },
        "outputId": "8aefb126-9702-4dd5-a888-7a3e02611297"
      },
      "source": [
        "plt.plot(history.history['loss'])\n",
        "plt.plot(history.history['val_loss'])\n",
        "plt.title('loss')\n",
        "plt.ylabel('loss')\n",
        "plt.xlabel('epoch')\n",
        "plt.legend(['loss', 'val_loss'], loc = 'lower right')\n",
        "plt.show()\n"
      ],
      "execution_count": null,
      "outputs": [
        {
          "output_type": "display_data",
          "data": {
            "image/png": "[encoded data removed]",
            "text/plain": [
              "<Figure size 432x288 with 1 Axes>"
            ]
          },
          "metadata": {
            "needs_background": "light"
          }
        }
      ]
    },
    {
      "cell_type": "markdown",
      "metadata": {
        "id": "J17ohr7AuGnD"
      },
      "source": [
        "TEST"
      ]
    },
    {
      "cell_type": "code",
      "metadata": {
        "id": "sHw1g3D9uGwt",
        "colab": {
          "base_uri": "https://localhost:8080/",
          "height": 319
        },
        "outputId": "b14a7644-d84b-4175-9b44-c727fc3e02bb"
      },
      "source": [
        "plt.figure()\n",
        "plt.imshow(X_test[0])\n",
        "y_pred = model.predict(X_test)\n",
        "print(\"정답=\", y_test[0])\n",
        "print(\"예측값=\", y_pred[0])"
      ],
      "execution_count": null,
      "outputs": [
        {
          "output_type": "stream",
          "name": "stdout",
          "text": [
            "정답= [3]\n",
            "예측값= [5.2042124e-06 4.6078608e-07 7.3040610e-07 9.9487394e-01 1.3324003e-05\n",
            " 7.5804873e-04 4.1319691e-03 2.6870339e-09 2.0723960e-04 9.0482717e-06]\n"
          ]
        },
        {
          "output_type": "display_data",
          "data": {
            "image/png": "[encoded data removed]",
            "text/plain": [
              "<Figure size 432x288 with 1 Axes>"
            ]
          },
          "metadata": {
            "needs_background": "light"
          }
        }
      ]
    }
  ]
}