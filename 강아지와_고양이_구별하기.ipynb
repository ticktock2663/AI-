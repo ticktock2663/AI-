{
  "nbformat": 4,
  "nbformat_minor": 0,
  "metadata": {
    "colab": {
      "provenance": [],
      "collapsed_sections": []
    },
    "kernelspec": {
      "name": "python3",
      "display_name": "Python 3"
    },
    "language_info": {
      "name": "python"
    }
  },
  "cells": [
    {
      "cell_type": "markdown",
      "metadata": {
        "id": "5HFu2NnGEVW4"
      },
      "source": [
        "내 Google Drive를 Colab으로 Mount하기"
      ]
    },
    {
      "cell_type": "code",
      "metadata": {
        "id": "tYB8YcLoEXUt"
      },
      "source": [
        "from google.colab import drive\n",
        "drive.mount('/gdrive')"
      ],
      "execution_count": null,
      "outputs": []
    },
    {
      "cell_type": "code",
      "metadata": {
        "id": "-Ku4g-iHjUjN"
      },
      "source": [
        "!ls\n",
        "!pwd"
      ],
      "execution_count": null,
      "outputs": []
    },
    {
      "cell_type": "code",
      "metadata": {
        "id": "OPwaq9rQqAYW"
      },
      "source": [
        "!cd /gdrive\n",
        "!ls\n",
        "!pwd"
      ],
      "execution_count": null,
      "outputs": []
    },
    {
      "cell_type": "code",
      "metadata": {
        "id": "HWdfXtxXqaWI"
      },
      "source": [
        "!ls /gdrive/MyDrive/'Colab Notebooks'/Petimages\n",
        "!pwd"
      ],
      "execution_count": null,
      "outputs": []
    },
    {
      "cell_type": "code",
      "metadata": {
        "id": "tL3YMIXnEyzG"
      },
      "source": [
        "!ls /gdrive/MyDrive/'Colab Notebooks'/Petimages/train/dog"
      ],
      "execution_count": null,
      "outputs": []
    },
    {
      "cell_type": "code",
      "metadata": {
        "id": "D289KvMf-hOH"
      },
      "source": [
        "#!activate deep\n",
        "!pip install pillow       #다양한 이미지 파일 형식을 지원하고 강력한 이미지 처리와 그래픽 기능을 제공하는 자유-오픈 소스 소프트웨어 라이브러리\n",
        "!pip install matplotlib\n"
      ],
      "execution_count": null,
      "outputs": []
    },
    {
      "cell_type": "markdown",
      "metadata": {
        "id": "khkhV3L0-sI0"
      },
      "source": [
        "이미지 출력"
      ]
    },
    {
      "cell_type": "code",
      "metadata": {
        "id": "rWz0p164-sSs"
      },
      "source": [
        "from matplotlib import pyplot\n",
        "from matplotlib.image import imread\n",
        "\n",
        "image = imread('/gdrive/MyDrive/Colab Notebooks/Petimages/train/dog/10705.jpg')\n",
        "\n",
        "pyplot.imshow(image)\n",
        "pyplot.show()\n"
      ],
      "execution_count": null,
      "outputs": []
    },
    {
      "cell_type": "markdown",
      "metadata": {
        "id": "AtLNAO8W_w8h"
      },
      "source": [
        "신경망 모델 생성"
      ]
    },
    {
      "cell_type": "code",
      "metadata": {
        "id": "jZYGf_p9_xVy"
      },
      "source": [
        "from tensorflow.keras import models, layers\n",
        "\n",
        "train_dir = '/gdrive/MyDrive/Colab Notebooks/Petimages/train'\n",
        "test_dir = '/gdrive/MyDrive/Colab Notebooks/Petimages/test'\n",
        "\n",
        "model = models.Sequential()\n",
        "model.add(layers.Conv2D(32,(3,3), activation='relu', input_shape=(128,128,3)))\n",
        "model.add(layers.MaxPooling2D(2,2))\n",
        "model.add(layers.Conv2D(64,(3,3), activation='relu'))\n",
        "model.add(layers.MaxPooling2D(2,2))\n",
        "model.add(layers.Flatten())\n",
        "model.add(layers.Dense(units=512, activation='relu'))\n",
        "model.add(layers.Dense(units=1, activation='sigmoid'))\n",
        "\n",
        "model.compile(optimizer = 'adam', loss = 'binary_crossentropy', metrics = ['accuracy'])\n"
      ],
      "execution_count": null,
      "outputs": []
    },
    {
      "cell_type": "markdown",
      "metadata": {
        "id": "crbi3kvIis7E"
      },
      "source": [
        "이미지 전처리"
      ]
    },
    {
      "cell_type": "code",
      "metadata": {
        "id": "ri9LOiAcFcw8",
        "colab": {
          "base_uri": "https://localhost:8080/"
        },
        "outputId": "a49bd1d6-fc2c-44af-9b75-832a3c2fa3d6"
      },
      "source": [
        "from tensorflow.keras.preprocessing.image import ImageDataGenerator\n",
        "\n",
        "train_datagen = ImageDataGenerator(rescale = 1./255, shear_range = 0.2,\n",
        "  zoom_range = 0.2, horizontal_flip = True)\n",
        "\n",
        "test_datagen = ImageDataGenerator(rescale = 1./255)\n",
        "\n",
        "train_generator = train_datagen.flow_from_directory(\n",
        "    train_dir,                      \n",
        "    target_size=(128, 128), \n",
        "    batch_size=20,\n",
        "    class_mode = 'binary')\n",
        "\n",
        "test_generator = test_datagen.flow_from_directory(\n",
        "    test_dir,\n",
        "    target_size=(128, 128),\n",
        "    batch_size=20,\n",
        "    class_mode = 'binary')"
      ],
      "execution_count": null,
      "outputs": [
        {
          "output_type": "stream",
          "name": "stdout",
          "text": [
            "Found 2000 images belonging to 2 classes.\n",
            "Found 200 images belonging to 2 classes.\n"
          ]
        }
      ]
    },
    {
      "cell_type": "markdown",
      "metadata": {
        "id": "0nesXi-vFlHd"
      },
      "source": [
        "학습 / 훈련"
      ]
    },
    {
      "cell_type": "code",
      "metadata": {
        "id": "kIAtW5EbFllI"
      },
      "source": [
        "history = model.fit_generator(\n",
        "    train_generator, steps_per_epoch = 100, epochs=10, \n",
        "    validation_data=test_generator, validation_steps=5)\n"
      ],
      "execution_count": null,
      "outputs": []
    },
    {
      "cell_type": "markdown",
      "metadata": {
        "id": "yhUclpqRFrsa"
      },
      "source": []
    },
    {
      "cell_type": "code",
      "metadata": {
        "id": "CpabjXngFr8n"
      },
      "source": [
        "import matplotlib.pyplot as plt\n",
        "\n",
        "plt.plot(history.history['accuracy'])\n",
        "plt.plot(history.history['val_accuracy'])\n",
        "plt.xlabel('Epoch')\n",
        "plt.xlabel('Accuracy')\n",
        "plt.legend(['Train', 'Test'], loc='upper left')\n",
        "plt.show()\n"
      ],
      "execution_count": null,
      "outputs": []
    }
  ]
}